{
 "cells": [
  {
   "cell_type": "code",
   "execution_count": 1,
   "metadata": {},
   "outputs": [
    {
     "name": "stdout",
     "output_type": "stream",
     "text": [
      "Importing Jupyter notebook from pic_capturer.ipynb\n",
      "Importing Jupyter notebook from encoding_database.ipynb\n",
      "Importing Jupyter notebook from encoding_generator.ipynb\n"
     ]
    },
    {
     "name": "stderr",
     "output_type": "stream",
     "text": [
      "C:\\Users\\HP\\Anaconda3\\lib\\site-packages\\h5py\\__init__.py:36: FutureWarning: Conversion of the second argument of issubdtype from `float` to `np.floating` is deprecated. In future, it will be treated as `np.float64 == np.dtype(float).type`.\n",
      "  from ._conv import register_converters as _register_converters\n",
      "Using TensorFlow backend.\n"
     ]
    },
    {
     "name": "stdout",
     "output_type": "stream",
     "text": [
      "Importing Jupyter notebook from face_recognition_and_cropping.ipynb\n"
     ]
    }
   ],
   "source": [
    "import nbimporter\n",
    "from pic_capturer import pic_capture\n",
    "from encoding_database import insert_encoding_to_dict"
   ]
  },
  {
   "cell_type": "code",
   "execution_count": 7,
   "metadata": {},
   "outputs": [],
   "source": [
    "image_2_encoding={}"
   ]
  },
  {
   "cell_type": "code",
   "execution_count": 2,
   "metadata": {},
   "outputs": [
    {
     "name": "stdout",
     "output_type": "stream",
     "text": [
      "enter 1 to take pic and 2 to identify\n",
      "1\n",
      "miku_3\n",
      "Escape hit, closing...\n",
      "taken_pic\n",
      "face_reco_and_cropping_over\n",
      "in insert enco to dict\n",
      "miku_3\n",
      "in encoding_generator\n",
      "[[ 0.060654    0.07425106  0.05354603  0.01880073  0.10276043  0.20233591\n",
      "   0.06787372 -0.0808365   0.03957763 -0.20438525  0.00298593  0.00960012\n",
      "  -0.0069481  -0.00148666  0.00387733 -0.09927686 -0.02077734 -0.0430756\n",
      "  -0.11435745  0.06388479  0.06218044  0.08745853 -0.11981885  0.04891325\n",
      "  -0.01974315 -0.08487275 -0.14520617 -0.00467893  0.01273037  0.05212531\n",
      "   0.0734809   0.02206462 -0.09214462  0.06285901  0.11513932  0.11611251\n",
      "   0.06055863 -0.03486712 -0.05414938 -0.10886738  0.13937634  0.01229743\n",
      "   0.00542394 -0.06399133 -0.02733522  0.10122954  0.04309408  0.05400027\n",
      "  -0.13861874 -0.02719737 -0.15972385 -0.02061035  0.10718659 -0.00814168\n",
      "   0.09959346  0.05395881 -0.20273782  0.13441998 -0.13022834 -0.0544214\n",
      "  -0.08056445  0.1606529   0.13963784 -0.17755477  0.07030699  0.11980145\n",
      "   0.08467492  0.00252657 -0.135385    0.03650643  0.07619324 -0.03855114\n",
      "   0.00661944 -0.04863926  0.03087443  0.10038415  0.00112447 -0.05265173\n",
      "   0.036012   -0.03460474  0.04232431  0.12114204 -0.03538467 -0.06127289\n",
      "   0.01009003  0.02376598  0.01714788  0.01997194 -0.11052107  0.19706689\n",
      "   0.24799871 -0.15581477 -0.00237461  0.08126073 -0.0604803   0.00635491\n",
      "   0.02247497 -0.07450727  0.02907907  0.03311907  0.05793133  0.05028253\n",
      "  -0.09477433 -0.05701008 -0.17353353  0.16576241  0.0087803  -0.0214401\n",
      "  -0.11344379  0.05490848  0.12330453 -0.02410653 -0.08831917 -0.00227302\n",
      "   0.0311191   0.00636725 -0.18824553  0.01104444 -0.03056085  0.03771031\n",
      "   0.00737673 -0.01712832  0.02807887  0.06301933  0.07068636  0.1263023\n",
      "   0.06040011 -0.14472719]]\n",
      "enco_gen_over\n",
      "writing_values\n",
      "values_written\n",
      "[array([[ 0.060654  ,  0.07425106,  0.05354603,  0.01880073,  0.10276043,\n",
      "         0.20233591,  0.06787372, -0.0808365 ,  0.03957763, -0.20438525,\n",
      "         0.00298593,  0.00960012, -0.0069481 , -0.00148666,  0.00387733,\n",
      "        -0.09927686, -0.02077734, -0.0430756 , -0.11435745,  0.06388479,\n",
      "         0.06218044,  0.08745853, -0.11981885,  0.04891325, -0.01974315,\n",
      "        -0.08487275, -0.14520617, -0.00467893,  0.01273037,  0.05212531,\n",
      "         0.0734809 ,  0.02206462, -0.09214462,  0.06285901,  0.11513932,\n",
      "         0.11611251,  0.06055863, -0.03486712, -0.05414938, -0.10886738,\n",
      "         0.13937634,  0.01229743,  0.00542394, -0.06399133, -0.02733522,\n",
      "         0.10122954,  0.04309408,  0.05400027, -0.13861874, -0.02719737,\n",
      "        -0.15972385, -0.02061035,  0.10718659, -0.00814168,  0.09959346,\n",
      "         0.05395881, -0.20273782,  0.13441998, -0.13022834, -0.0544214 ,\n",
      "        -0.08056445,  0.1606529 ,  0.13963784, -0.17755477,  0.07030699,\n",
      "         0.11980145,  0.08467492,  0.00252657, -0.135385  ,  0.03650643,\n",
      "         0.07619324, -0.03855114,  0.00661944, -0.04863926,  0.03087443,\n",
      "         0.10038415,  0.00112447, -0.05265173,  0.036012  , -0.03460474,\n",
      "         0.04232431,  0.12114204, -0.03538467, -0.06127289,  0.01009003,\n",
      "         0.02376598,  0.01714788,  0.01997194, -0.11052107,  0.19706689,\n",
      "         0.24799871, -0.15581477, -0.00237461,  0.08126073, -0.0604803 ,\n",
      "         0.00635491,  0.02247497, -0.07450727,  0.02907907,  0.03311907,\n",
      "         0.05793133,  0.05028253, -0.09477433, -0.05701008, -0.17353353,\n",
      "         0.16576241,  0.0087803 , -0.0214401 , -0.11344379,  0.05490848,\n",
      "         0.12330453, -0.02410653, -0.08831917, -0.00227302,  0.0311191 ,\n",
      "         0.00636725, -0.18824553,  0.01104444, -0.03056085,  0.03771031,\n",
      "         0.00737673, -0.01712832,  0.02807887,  0.06301933,  0.07068636,\n",
      "         0.1263023 ,  0.06040011, -0.14472719]], dtype=float32)]\n"
     ]
    }
   ],
   "source": [
    "print(\"enter 1 to take pic and 2 to identify\")\n",
    "n=int(input())\n",
    "if(n==1):\n",
    "    pic_capture(n)\n",
    "    \n",
    "    "
   ]
  },
  {
   "cell_type": "code",
   "execution_count": 4,
   "metadata": {},
   "outputs": [
    {
     "ename": "NameError",
     "evalue": "name 'a' is not defined",
     "output_type": "error",
     "traceback": [
      "\u001b[1;31m---------------------------------------------------------------------------\u001b[0m",
      "\u001b[1;31mNameError\u001b[0m                                 Traceback (most recent call last)",
      "\u001b[1;32m<ipython-input-4-bca0e2660b9f>\u001b[0m in \u001b[0;36m<module>\u001b[1;34m()\u001b[0m\n\u001b[1;32m----> 1\u001b[1;33m \u001b[0mprint\u001b[0m\u001b[1;33m(\u001b[0m\u001b[0ma\u001b[0m\u001b[1;33m)\u001b[0m\u001b[1;33m\u001b[0m\u001b[0m\n\u001b[0m",
      "\u001b[1;31mNameError\u001b[0m: name 'a' is not defined"
     ]
    }
   ],
   "source": [
    "print(a)"
   ]
  },
  {
   "cell_type": "code",
   "execution_count": null,
   "metadata": {},
   "outputs": [],
   "source": []
  }
 ],
 "metadata": {
  "kernelspec": {
   "display_name": "Python 3",
   "language": "python",
   "name": "python3"
  },
  "language_info": {
   "codemirror_mode": {
    "name": "ipython",
    "version": 3
   },
   "file_extension": ".py",
   "mimetype": "text/x-python",
   "name": "python",
   "nbconvert_exporter": "python",
   "pygments_lexer": "ipython3",
   "version": "3.6.5"
  }
 },
 "nbformat": 4,
 "nbformat_minor": 2
}
