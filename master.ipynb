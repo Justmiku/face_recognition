{
 "cells": [
  {
   "cell_type": "code",
   "execution_count": 1,
   "metadata": {},
   "outputs": [
    {
     "name": "stdout",
     "output_type": "stream",
     "text": [
      "Importing Jupyter notebook from pic_capturer.ipynb\n",
      "Importing Jupyter notebook from face_recognition_and_cropping.ipynb\n",
      "Importing Jupyter notebook from encoding_database.ipynb\n",
      "Importing Jupyter notebook from encoding_generator.ipynb\n"
     ]
    },
    {
     "name": "stderr",
     "output_type": "stream",
     "text": [
      "C:\\Users\\HP\\Anaconda3\\lib\\site-packages\\h5py\\__init__.py:36: FutureWarning: Conversion of the second argument of issubdtype from `float` to `np.floating` is deprecated. In future, it will be treated as `np.float64 == np.dtype(float).type`.\n",
      "  from ._conv import register_converters as _register_converters\n",
      "Using TensorFlow backend.\n"
     ]
    },
    {
     "name": "stdout",
     "output_type": "stream",
     "text": [
      "Importing Jupyter notebook from return_name.ipynb\n"
     ]
    }
   ],
   "source": [
    "import nbimporter\n",
    "import pickle\n",
    "import numpy as np\n",
    "from pic_capturer import *\n",
    "from encoding_database import *\n",
    "from return_name import *\n",
    "from face_recognition_and_cropping import *\n",
    "from encoding_generator import *\n",
    "from encoding_database import *"
   ]
  },
  {
   "cell_type": "code",
   "execution_count": 2,
   "metadata": {},
   "outputs": [],
   "source": [
    "image_encoding={}"
   ]
  },
  {
   "cell_type": "code",
   "execution_count": 11,
   "metadata": {},
   "outputs": [
    {
     "name": "stdout",
     "output_type": "stream",
     "text": [
      "enter 1 to take pic and 2 to identify\n",
      "2\n",
      "test_3\n",
      "Escape hit, closing...\n",
      "taken_pic\n",
      "test_face_reco_and_cropping_over\n",
      "miku 0.52324665\n",
      "chaurasia 0.31595266\n",
      "chaurasia 0.31595266\n"
     ]
    }
   ],
   "source": [
    "with open('encoding_2_dict.pickle', 'rb') as handle:\n",
    "    image_encoding = pickle.load(handle)\n",
    "print(\"enter 1 to take pic and 2 to identify\")\n",
    "n=int(input())\n",
    "if(n==1):\n",
    "    name=pic_capture(n)\n",
    "    #FRmodel=insert_encoding_to_dict() \n",
    "    path_img='.\\\\cropped_image_database\\\\'+'cropped_'+str(name)+'.png'\n",
    "    enco=img_to_encoding(path_img,FRmodel)\n",
    "    print(\"writing_values\")\n",
    "    image_encoding[name]=enco\n",
    "    print(\"values_written\")\n",
    "    with open('encoding_2_dict.pickle', 'wb') as handle:\n",
    "         pickle.dump(image_encoding, handle, protocol=pickle.HIGHEST_PROTOCOL)\n",
    "    del(image_encoding)\n",
    "if(n==2):\n",
    "    name=pic_capture_2(n)\n",
    "   # FRmodel=insert_encoding_to_dict()\n",
    "    path_img='.\\\\test_cropped_image_database\\\\'+'cropped_'+str(name)+'.png'\n",
    "    enco=img_to_encoding(path_img,FRmodel)\n",
    "    return_name(enco,image_encoding)\n",
    "    \n",
    "    "
   ]
  },
  {
   "cell_type": "code",
   "execution_count": null,
   "metadata": {},
   "outputs": [],
   "source": [
    "print(np.linalg.norm(image_2_encoding['1'] - image_2_encoding['2']))"
   ]
  },
  {
   "cell_type": "code",
   "execution_count": null,
   "metadata": {},
   "outputs": [],
   "source": [
    "with open('encoding_dict.pickle', 'wb') as handle:\n",
    "    pickle.dump(image_2_encoding, handle, protocol=pickle.HIGHEST_PROTOCOL)\n",
    "del(image_2_encoding)    "
   ]
  }
 ],
 "metadata": {
  "kernelspec": {
   "display_name": "Python 3",
   "language": "python",
   "name": "python3"
  },
  "language_info": {
   "codemirror_mode": {
    "name": "ipython",
    "version": 3
   },
   "file_extension": ".py",
   "mimetype": "text/x-python",
   "name": "python",
   "nbconvert_exporter": "python",
   "pygments_lexer": "ipython3",
   "version": "3.6.5"
  }
 },
 "nbformat": 4,
 "nbformat_minor": 2
}
