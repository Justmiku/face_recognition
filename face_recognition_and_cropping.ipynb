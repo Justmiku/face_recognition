{
 "cells": [
  {
   "cell_type": "code",
   "execution_count": 94,
   "metadata": {},
   "outputs": [
    {
     "name": "stdout",
     "output_type": "stream",
     "text": [
      "mikku\n",
      "opencv_frame_mikku.png written!\n"
     ]
    }
   ],
   "source": [
    "import os\n",
    "import numpy as np\n",
    "import pandas as pd\n",
    "import cv2\n",
    "import matplotlib.pyplot as plt\n",
    "\n",
    "face_cascade=cv2.CascadeClassifier('C:\\\\Users\\\\HP\\\\Desktop\\\\face_recognition\\\\haarcascade_frontalface_default.xml')\n",
    "eye_cascade=cv2.CascadeClassifier('C:\\\\Users\\\\HP\\\\Desktop\\\\face_recognition\\\\haarcascade_eye.xml')\n",
    "\n",
    "img = cv2.imread('C:\\\\Users\\\\HP\\\\Desktop\\\\face_recognition\\\\opencv_frame_miku_2.png')\n",
    "\n",
    "img=cv2.cvtColor(img,cv2.COLOR_BGR2RGB)\n",
    "gray = cv2.cvtColor(img, cv2.COLOR_RGB2GRAY)\n",
    "\n",
    "faces=[]\n",
    "faces = face_cascade.detectMultiScale(gray, 1.3, 5)\n",
    "start_row,start_col,end_row,end_col=faces[0]\n",
    "\n",
    "faces = face_cascade.detectMultiScale(gray, 1.3, 5)\n",
    "for (x,y,w,h) in faces:\n",
    "    cv2.rectangle(img,(x+2,y+2),(x+w+2,y+h+2),(0,255,0),2)\n",
    "    roi_gray = gray[y:y+h, x:x+w]\n",
    "    roi_color = img[y:y+h, x:x+w]\n",
    "    eyes = eye_cascade.detectMultiScale(roi_gray)\n",
    "    for (ex,ey,ew,eh) in eyes:\n",
    "        cv2.rectangle(roi_color,(ex,ey),(ex+ew,ey+eh),(0,255,0),2)\n",
    "        \n",
    "path='C:\\\\Users\\\\HP\\\\Desktop\\\\face_recognition\\\\cropped_image_database'\n",
    "\n",
    "cropped=gray[start_col-10:start_col+end_col,start_row-10:start_row+end_row+10]\n",
    "cropped=cv2.resize(cropped,(96,96))\n",
    "img_name = \"opencv_frame_{}.png\".format(input())\n",
    "cv2.imwrite(path+'/'+str(img_name), cropped)\n",
    "print(\"{} written!\".format(img_name))"
   ]
  }
 ],
 "metadata": {
  "kernelspec": {
   "display_name": "Python 3",
   "language": "python",
   "name": "python3"
  },
  "language_info": {
   "codemirror_mode": {
    "name": "ipython",
    "version": 3
   },
   "file_extension": ".py",
   "mimetype": "text/x-python",
   "name": "python",
   "nbconvert_exporter": "python",
   "pygments_lexer": "ipython3",
   "version": "3.6.5"
  }
 },
 "nbformat": 4,
 "nbformat_minor": 2
}
