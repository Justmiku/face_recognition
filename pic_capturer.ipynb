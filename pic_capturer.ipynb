{
 "cells": [
  {
   "cell_type": "code",
   "execution_count": 1,
   "metadata": {},
   "outputs": [
    {
     "name": "stdout",
     "output_type": "stream",
     "text": [
      "Importing Jupyter notebook from encoding_database.ipynb\n",
      "Importing Jupyter notebook from encoding_generator.ipynb\n"
     ]
    },
    {
     "name": "stderr",
     "output_type": "stream",
     "text": [
      "C:\\Users\\HP\\Anaconda3\\lib\\site-packages\\h5py\\__init__.py:36: FutureWarning: Conversion of the second argument of issubdtype from `float` to `np.floating` is deprecated. In future, it will be treated as `np.float64 == np.dtype(float).type`.\n",
      "  from ._conv import register_converters as _register_converters\n",
      "Using TensorFlow backend.\n"
     ]
    },
    {
     "name": "stdout",
     "output_type": "stream",
     "text": [
      "Importing Jupyter notebook from face_recognition_and_cropping.ipynb\n"
     ]
    }
   ],
   "source": [
    "import cv2\n",
    "import nbimporter\n",
    "from encoding_database import insert_encoding_to_dict\n",
    "from face_recognition_and_cropping import face_recognition\n",
    "\n",
    "def pic_capture(n):\n",
    "    cam = cv2.VideoCapture(0)\n",
    "\n",
    "    path_2=\"C:\\\\Users\\\\HP\\\\Desktop\\\\face_recognition\\\\raw_image_database\"\n",
    "\n",
    "    cv2.namedWindow(\"test\")\n",
    "\n",
    "    while True:\n",
    "        ret, frame = cam.read()\n",
    "        cv2.imshow(\"test\", frame)\n",
    "        if not ret:\n",
    "            break\n",
    "        k = cv2.waitKey(1)\n",
    "\n",
    "        if k%256 == 27:\n",
    "            # ESC pressed\n",
    "            print(\"Escape hit, closing...\")\n",
    "            break\n",
    "        elif k%256 == 32:\n",
    "            # SPACE pressed\n",
    "            name=input()\n",
    "            img_name = \"{}.png\".format(name)\n",
    "            cv2.imwrite(path_2+'/'+str(img_name), frame)\n",
    "\n",
    "    cam.release()\n",
    "\n",
    "    cv2.destroyAllWindows()\n",
    "    \n",
    "    print(\"taken_pic\")\n",
    "    \n",
    "    if(n==1):\n",
    "            face_recognition(name)\n",
    "            insert_encoding_to_dict(name)  "
   ]
  },
  {
   "cell_type": "code",
   "execution_count": null,
   "metadata": {},
   "outputs": [],
   "source": []
  },
  {
   "cell_type": "code",
   "execution_count": null,
   "metadata": {},
   "outputs": [],
   "source": []
  }
 ],
 "metadata": {
  "kernelspec": {
   "display_name": "Python 3",
   "language": "python",
   "name": "python3"
  },
  "language_info": {
   "codemirror_mode": {
    "name": "ipython",
    "version": 3
   },
   "file_extension": ".py",
   "mimetype": "text/x-python",
   "name": "python",
   "nbconvert_exporter": "python",
   "pygments_lexer": "ipython3",
   "version": "3.6.5"
  }
 },
 "nbformat": 4,
 "nbformat_minor": 2
}
