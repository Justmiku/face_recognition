{
 "cells": [
  {
   "cell_type": "code",
   "execution_count": 1,
   "metadata": {},
   "outputs": [],
   "source": [
    "import numpy as np\n",
    "def return_name(enco,image_2_encoding):\n",
    "    mini=1\n",
    "    print(enco)\n",
    "    print(image_2_encoding)\n",
    "    for i,j in image_2_encoding.items():\n",
    "        print(i)\n",
    "        print(j)\n",
    "        diff=np.linalg.norm(enco - j)\n",
    "        print(diff)\n",
    "        if(diff<mini):\n",
    "            mini=diff\n",
    "            ans=i\n",
    "            print(mini,ans)\n",
    "            \n",
    "    if(mini<0.7):\n",
    "        print(ans)\n",
    "        \n",
    "    "
   ]
  }
 ],
 "metadata": {
  "kernelspec": {
   "display_name": "Python 3",
   "language": "python",
   "name": "python3"
  },
  "language_info": {
   "codemirror_mode": {
    "name": "ipython",
    "version": 3
   },
   "file_extension": ".py",
   "mimetype": "text/x-python",
   "name": "python",
   "nbconvert_exporter": "python",
   "pygments_lexer": "ipython3",
   "version": "3.6.5"
  }
 },
 "nbformat": 4,
 "nbformat_minor": 2
}
