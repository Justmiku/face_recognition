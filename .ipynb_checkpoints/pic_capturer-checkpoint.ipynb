{
 "cells": [
  {
   "cell_type": "code",
   "execution_count": 1,
   "metadata": {},
   "outputs": [
    {
     "name": "stdout",
     "output_type": "stream",
     "text": [
      "Importing Jupyter notebook from face_recognition_and_cropping.ipynb\n"
     ]
    }
   ],
   "source": [
    "import cv2\n",
    "import nbimporter\n",
    "#from return_name import return_name\n",
    "#from encoding_database import insert_encoding_to_dict\n",
    "#from encoding_database import return_enco\n",
    "from face_recognition_and_cropping import face_recognition\n",
    "from face_recognition_and_cropping import face_recognition_2\n",
    "#from fr_utils import img_to_encoding\n",
    "\n",
    "def pic_capture(n,image_2_encoding):\n",
    "    cam = cv2.VideoCapture(0)\n",
    "\n",
    "    path_2=\"C:\\\\Users\\\\HP\\\\Desktop\\\\face_recognition\\\\raw_image_database\"\n",
    "\n",
    "    cv2.namedWindow(\"test\")\n",
    "\n",
    "    while True:\n",
    "        ret, frame = cam.read()\n",
    "        cv2.imshow(\"test\", frame)\n",
    "        if not ret:\n",
    "            break\n",
    "        k = cv2.waitKey(1)\n",
    "\n",
    "        if k%256 == 27:\n",
    "            # ESC pressed\n",
    "            print(\"Escape hit, closing...\")\n",
    "            break\n",
    "        elif k%256 == 32:\n",
    "            # SPACE pressed\n",
    "            name=input()\n",
    "            img_name = \"{}.png\".format(name)\n",
    "            cv2.imwrite(path_2+'/'+str(img_name), frame)\n",
    "\n",
    "    cam.release()\n",
    "\n",
    "    cv2.destroyAllWindows()\n",
    "    \n",
    "    print(\"taken_pic\")\n",
    "    \n",
    "    if(n==1):\n",
    "            face_recognition(name)\n",
    "            #FRmodel=insert_encoding_to_dict(name) \n",
    "            #path_img='.\\\\cropped_image_database\\\\'+'cropped_'+str(img)+'.png'\n",
    "            #enco=img_to_encoding(path_img,FRmodel)\n",
    "            #print(\"writing_values\")\n",
    "            #image_2_encoding[name]=enco\n",
    "            #print(\"values_written\")\n",
    "    return(name)        "
   ]
  },
  {
   "cell_type": "code",
   "execution_count": 2,
   "metadata": {},
   "outputs": [],
   "source": [
    "def pic_capture_2(n,image_2_encoding):\n",
    "    cam = cv2.VideoCapture(0)\n",
    "\n",
    "    path_2=\"C:\\\\Users\\\\HP\\\\Desktop\\\\face_recognition\\\\test_raw_image_database\"\n",
    "\n",
    "    cv2.namedWindow(\"test\")\n",
    "    \n",
    "    counter=1\n",
    "\n",
    "    while True:\n",
    "        ret, frame = cam.read()\n",
    "        cv2.imshow(\"test\", frame)\n",
    "        if not ret:\n",
    "            break\n",
    "        k = cv2.waitKey(1)\n",
    "        \n",
    "        \n",
    "        \n",
    "        if k%256 == 27:\n",
    "            # ESC pressed\n",
    "            print(\"Escape hit, closing...\")\n",
    "            break\n",
    "        elif k%256 == 32:\n",
    "            # SPACE pressed\n",
    "            name=input()\n",
    "            img_name = \"{}.png\".format(name)\n",
    "            cv2.imwrite(path_2+'/'+str(img_name), frame)\n",
    "            counter=counter+1    \n",
    "\n",
    "    cam.release()\n",
    "\n",
    "    cv2.destroyAllWindows()\n",
    "    \n",
    "    print(\"taken_pic\")\n",
    "    \n",
    "    if(n==2):\n",
    "            face_recognition_2(name)\n",
    "            #FRmodel=return_enco(name)\n",
    "            #path_img='.\\\\test_cropped_image_database\\\\'+'cropped_'+str(img)+'.png'\n",
    "            #enco=img_to_encoding(path_img,FRmodel)\n",
    "            #return_name(enco,image_2_encoding)\n",
    "    return(name)"
   ]
  },
  {
   "cell_type": "code",
   "execution_count": null,
   "metadata": {},
   "outputs": [],
   "source": []
  }
 ],
 "metadata": {
  "kernelspec": {
   "display_name": "Python 3",
   "language": "python",
   "name": "python3"
  },
  "language_info": {
   "codemirror_mode": {
    "name": "ipython",
    "version": 3
   },
   "file_extension": ".py",
   "mimetype": "text/x-python",
   "name": "python",
   "nbconvert_exporter": "python",
   "pygments_lexer": "ipython3",
   "version": "3.6.5"
  }
 },
 "nbformat": 4,
 "nbformat_minor": 2
}
