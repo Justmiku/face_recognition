{
 "cells": [
  {
   "cell_type": "code",
   "execution_count": 1,
   "metadata": {},
   "outputs": [
    {
     "name": "stderr",
     "output_type": "stream",
     "text": [
      "C:\\Users\\HP\\Anaconda3\\lib\\site-packages\\h5py\\__init__.py:36: FutureWarning: Conversion of the second argument of issubdtype from `float` to `np.floating` is deprecated. In future, it will be treated as `np.float64 == np.dtype(float).type`.\n",
      "  from ._conv import register_converters as _register_converters\n",
      "Using TensorFlow backend.\n"
     ]
    }
   ],
   "source": [
    "import os\n",
    "import glob\n",
    "import numpy as np\n",
    "import cv2\n",
    "import tensorflow as tf\n",
    "from fr_utils import *\n",
    "from inception_blocks_v2 import *\n",
    "from keras import backend as K\n",
    "\n",
    "def encoding_generator(img):\n",
    "    print(img)\n",
    "    print(\"in encoding_generator\")\n",
    "    K.set_image_data_format('channels_first')\n",
    "    FRmodel = faceRecoModel(input_shape=(3, 96, 96))\n",
    "\n",
    "    def triplet_loss(y_true, y_pred, alpha = 0.3):\n",
    "        anchor, positive, negative = y_pred[0], y_pred[1], y_pred[2]\n",
    "\n",
    "        pos_dist = tf.reduce_sum(tf.square(tf.subtract(anchor,\n",
    "                   positive)), axis=-1)\n",
    "        neg_dist = tf.reduce_sum(tf.square(tf.subtract(anchor, \n",
    "                   negative)), axis=-1)\n",
    "        basic_loss = tf.add(tf.subtract(pos_dist, neg_dist), alpha)\n",
    "        loss = tf.reduce_sum(tf.maximum(basic_loss, 0.0))\n",
    "\n",
    "        return loss\n",
    "\n",
    "    FRmodel.compile(optimizer = 'adam', loss = triplet_loss, metrics = ['accuracy'])\n",
    "    load_weights_from_FaceNet(FRmodel)\n",
    "\n",
    "    path_img='.\\\\cropped_image_database\\\\'+'cropped_'+str(img)+'.png'\n",
    "    \n",
    "    enco=img_to_encoding(path_img,FRmodel)\n",
    "    print(\"enco_gen_over\")\n",
    "    return(enco)"
   ]
  },
  {
   "cell_type": "code",
   "execution_count": 2,
   "metadata": {},
   "outputs": [],
   "source": [
    "def encoding_generator_2(img):\n",
    "    print(img)\n",
    "    print(\"in encoding_generator\")\n",
    "    K.set_image_data_format('channels_first')\n",
    "    FRmodel = faceRecoModel(input_shape=(3, 96, 96))\n",
    "\n",
    "    def triplet_loss(y_true, y_pred, alpha = 0.3):\n",
    "        anchor, positive, negative = y_pred[0], y_pred[1], y_pred[2]\n",
    "\n",
    "        pos_dist = tf.reduce_sum(tf.square(tf.subtract(anchor,\n",
    "                   positive)), axis=-1)\n",
    "        neg_dist = tf.reduce_sum(tf.square(tf.subtract(anchor, \n",
    "                   negative)), axis=-1)\n",
    "        basic_loss = tf.add(tf.subtract(pos_dist, neg_dist), alpha)\n",
    "        loss = tf.reduce_sum(tf.maximum(basic_loss, 0.0))\n",
    "\n",
    "        return loss\n",
    "\n",
    "    FRmodel.compile(optimizer = 'adam', loss = triplet_loss, metrics = ['accuracy'])\n",
    "    load_weights_from_FaceNet(FRmodel)\n",
    "\n",
    "    path_img='.\\\\test_cropped_image_database\\\\'+'cropped_'+str(img)+'.png'\n",
    "    \n",
    "    enco=img_to_encoding(path_img,FRmodel)\n",
    "    print(\"enco_gen_over\")\n",
    "    return(enco)"
   ]
  },
  {
   "cell_type": "code",
   "execution_count": null,
   "metadata": {},
   "outputs": [],
   "source": []
  },
  {
   "cell_type": "code",
   "execution_count": null,
   "metadata": {},
   "outputs": [],
   "source": []
  }
 ],
 "metadata": {
  "kernelspec": {
   "display_name": "Python 3",
   "language": "python",
   "name": "python3"
  },
  "language_info": {
   "codemirror_mode": {
    "name": "ipython",
    "version": 3
   },
   "file_extension": ".py",
   "mimetype": "text/x-python",
   "name": "python",
   "nbconvert_exporter": "python",
   "pygments_lexer": "ipython3",
   "version": "3.6.5"
  }
 },
 "nbformat": 4,
 "nbformat_minor": 2
}
